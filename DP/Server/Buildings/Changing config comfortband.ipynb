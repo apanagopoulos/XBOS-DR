{
 "cells": [
  {
   "cell_type": "code",
   "execution_count": 37,
   "metadata": {},
   "outputs": [],
   "source": [
    "import os\n",
    "import yaml"
   ]
  },
  {
   "cell_type": "code",
   "execution_count": 100,
   "metadata": {},
   "outputs": [
    {
     "name": "stdout",
     "output_type": "stream",
     "text": [
      "('in dir: ', 'avenal-recreation-center/ZoneConfigs')\n",
      "10.0\n",
      "10.0\n",
      "('in dir: ', 'avenal-public-works-yard/ZoneConfigs')\n",
      "10.0\n",
      "('in dir: ', 'avenal-animal-shelter/ZoneConfigs')\n",
      "10.0\n",
      "('in dir: ', 'avenal-movie-theatre/ZoneConfigs')\n",
      "10.0\n",
      "10.0\n",
      "10.0\n",
      "10.0\n",
      "10.0\n",
      "10.0\n",
      "10.0\n",
      "10.0\n",
      "('in dir: ', 'avenal-veterans-hall/ZoneConfigs')\n",
      "10.0\n",
      "10.0\n",
      "10.0\n",
      "10.0\n",
      "10.0\n",
      "10.0\n"
     ]
    }
   ],
   "source": [
    "all_dir = os.walk(\"./\").next()\n",
    "for d in all_dir[1]:\n",
    "    if \"avenal\" in d:\n",
    "        #controller config\n",
    "#         cfg = os.walk(d).next()[2][0]\n",
    "#         with open(d + \"/\" + cfg, \"r\") as f:\n",
    "#             cfg_data = yaml.load(f)\n",
    "#         cfg_data[\"DR\"] = True\n",
    "#         cfg_data[\"DR_Start\"] = \"01:10\"\n",
    "#         cfg_data[\"DR_Finish\"] =\"01:40\"\n",
    "#         with open(d + \"/\" + cfg, \"wb\") as f:\n",
    "#             yaml.dump(cfg_data, f)\n",
    "        \n",
    "        end_dir = d + \"/ZoneConfigs\"\n",
    "        files = os.walk(end_dir).next()[2]\n",
    "        print(\"in dir: \", end_dir)\n",
    "        for f in files:\n",
    "#             try:\n",
    "            with open(\"./\"+end_dir+\"/\"+f, 'r') as o:\n",
    "                config = yaml.load(o)\n",
    "            config[\"Advise\"][\"Cooling_Consumption\"] = float(config[\"Advise\"][\"Cooling_Consumption\"] )\n",
    "            config[\"Advise\"][\"Heating_Consumption\"] = float(config[\"Advise\"][\"Heating_Consumption\"])\n",
    "            config[\"Advise\"][\"Ventilation_Consumption\"] = float(config[\"Advise\"][\"Ventilation_Consumption\"])\n",
    "\n",
    "\n",
    "            \n",
    "            config[\"Advise\"][\"Baseline_Dr_Extend_Percent\"] = 10.\n",
    "#             if \"Cooling_Consumption_Stage_2\" in config[\"Advise\"]:\n",
    "            config[\"Advise\"][\"DR_Lambda\"] = 0.5\n",
    "#                 config[\"Advise\"][\"MPC\"] = False\n",
    "            \n",
    "# #             NOTE: run if key problem \n",
    "#             res = {}\n",
    "#             for key, val in config[\"Advise\"][\"Baseline\"].items():\n",
    "#                 try:\n",
    "#                     key_new = key.encode('utf-8')\n",
    "#                     print(key_new[-1])\n",
    "                    \n",
    "#                     res[int(key_new[-1])] = val\n",
    "#                     config[\"Advise\"][\"Baseline\"].pop(key, None)\n",
    "#                 except:\n",
    "#                     pass\n",
    "#             config[\"Advise\"][\"Baseline\"].update(res)\n",
    "            print(config[\"Advise\"][\"Baseline_Dr_Extend_Percent\"])\n",
    "\n",
    "            \n",
    "                \n",
    "\n",
    "            with open(\"./\"+end_dir+\"/\"+f, 'wb') as o:\n",
    "                yaml.dump(config, o)\n",
    "                    \n",
    "#             except:\n",
    "#                 print(\"ERROR WITH FILE\", f)\n",
    "                "
   ]
  },
  {
   "cell_type": "code",
   "execution_count": 47,
   "metadata": {},
   "outputs": [
    {
     "data": {
      "text/plain": [
       "True"
      ]
     },
     "execution_count": 47,
     "metadata": {},
     "output_type": "execute_result"
    }
   ],
   "source": [
    "isinstance(\"9\", str)"
   ]
  },
  {
   "cell_type": "code",
   "execution_count": 49,
   "metadata": {},
   "outputs": [
    {
     "data": {
      "text/plain": [
       "1"
      ]
     },
     "execution_count": 49,
     "metadata": {},
     "output_type": "execute_result"
    }
   ],
   "source": [
    "int(\"\\_ \\_ \\_ \\_ \\_ \\_ \\_ 1\"[-1])"
   ]
  },
  {
   "cell_type": "code",
   "execution_count": 98,
   "metadata": {},
   "outputs": [
    {
     "ename": "SyntaxError",
     "evalue": "unexpected character after line continuation character (<ipython-input-98-4c0d2d734193>, line 1)",
     "output_type": "error",
     "traceback": [
      "\u001b[0;36m  File \u001b[0;32m\"<ipython-input-98-4c0d2d734193>\"\u001b[0;36m, line \u001b[0;32m1\u001b[0m\n\u001b[0;31m    float(u\\\"0.075\\_\")\u001b[0m\n\u001b[0m                      ^\u001b[0m\n\u001b[0;31mSyntaxError\u001b[0m\u001b[0;31m:\u001b[0m unexpected character after line continuation character\n"
     ]
    }
   ],
   "source": []
  },
  {
   "cell_type": "code",
   "execution_count": null,
   "metadata": {},
   "outputs": [],
   "source": []
  }
 ],
 "metadata": {
  "kernelspec": {
   "display_name": "ciee",
   "language": "python",
   "name": "ciee"
  },
  "language_info": {
   "codemirror_mode": {
    "name": "ipython",
    "version": 2
   },
   "file_extension": ".py",
   "mimetype": "text/x-python",
   "name": "python",
   "nbconvert_exporter": "python",
   "pygments_lexer": "ipython2",
   "version": "2.7.13"
  }
 },
 "nbformat": 4,
 "nbformat_minor": 2
}
