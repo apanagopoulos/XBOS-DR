{
 "cells": [
  {
   "cell_type": "code",
   "execution_count": 37,
   "metadata": {},
   "outputs": [],
   "source": [
    "import os\n",
    "import yaml"
   ]
  },
  {
   "cell_type": "code",
   "execution_count": 90,
   "metadata": {},
   "outputs": [
    {
     "ename": "IOError",
     "evalue": "[Errno 2] No such file or directory: 'avenal-recreation-center.yml'",
     "output_type": "error",
     "traceback": [
      "\u001b[0;31m---------------------------------------------------------------------------\u001b[0m",
      "\u001b[0;31mIOError\u001b[0m                                   Traceback (most recent call last)",
      "\u001b[0;32m<ipython-input-90-ce06a689104e>\u001b[0m in \u001b[0;36m<module>\u001b[0;34m()\u001b[0m\n\u001b[1;32m      4\u001b[0m         \u001b[0;31m#controller config\u001b[0m\u001b[0;34m\u001b[0m\u001b[0;34m\u001b[0m\u001b[0m\n\u001b[1;32m      5\u001b[0m         \u001b[0mcfg\u001b[0m \u001b[0;34m=\u001b[0m \u001b[0mos\u001b[0m\u001b[0;34m.\u001b[0m\u001b[0mwalk\u001b[0m\u001b[0;34m(\u001b[0m\u001b[0md\u001b[0m\u001b[0;34m)\u001b[0m\u001b[0;34m.\u001b[0m\u001b[0mnext\u001b[0m\u001b[0;34m(\u001b[0m\u001b[0;34m)\u001b[0m\u001b[0;34m[\u001b[0m\u001b[0;36m2\u001b[0m\u001b[0;34m]\u001b[0m\u001b[0;34m[\u001b[0m\u001b[0;36m0\u001b[0m\u001b[0;34m]\u001b[0m\u001b[0;34m\u001b[0m\u001b[0m\n\u001b[0;32m----> 6\u001b[0;31m         \u001b[0;32mwith\u001b[0m \u001b[0mopen\u001b[0m\u001b[0;34m(\u001b[0m\u001b[0mcfg\u001b[0m\u001b[0;34m,\u001b[0m \u001b[0;34m\"r\"\u001b[0m\u001b[0;34m)\u001b[0m \u001b[0;32mas\u001b[0m \u001b[0mf\u001b[0m\u001b[0;34m:\u001b[0m\u001b[0;34m\u001b[0m\u001b[0m\n\u001b[0m\u001b[1;32m      7\u001b[0m             \u001b[0mcfg_data\u001b[0m \u001b[0;34m=\u001b[0m \u001b[0myaml\u001b[0m\u001b[0;34m.\u001b[0m\u001b[0mload\u001b[0m\u001b[0;34m(\u001b[0m\u001b[0mf\u001b[0m\u001b[0;34m)\u001b[0m\u001b[0;34m\u001b[0m\u001b[0m\n\u001b[1;32m      8\u001b[0m         \u001b[0mcfg_data\u001b[0m\u001b[0;34m[\u001b[0m\u001b[0;34m\"DR\"\u001b[0m\u001b[0;34m]\u001b[0m \u001b[0;34m=\u001b[0m \u001b[0mTrue\u001b[0m\u001b[0;34m\u001b[0m\u001b[0m\n",
      "\u001b[0;31mIOError\u001b[0m: [Errno 2] No such file or directory: 'avenal-recreation-center.yml'"
     ]
    }
   ],
   "source": [
    "all_dir = os.walk(\"./\").next()\n",
    "for d in all_dir[1]:\n",
    "    if \"avenal\" in d:\n",
    "        #controller config\n",
    "        cfg = os.walk(d).next()[2][0]\n",
    "        with open(cfg, \"r\") as f:\n",
    "            cfg_data = yaml.load(f)\n",
    "        cfg_data[\"DR\"] = True\n",
    "        cfg_data[\"DR_Start\"] = \"01:10\"\n",
    "        cfg_data[\"DR_Finish\"] =\"01:40\"\n",
    "        with open(cfg, \"wb\") as f:\n",
    "            yaml.dump(cfg_data, f)\n",
    "        \n",
    "#         end_dir = d + \"/ZoneConfigs\"\n",
    "#         files = os.walk(end_dir).next()[2]\n",
    "#         print(\"in dir: \", end_dir)\n",
    "#         for f in files:\n",
    "# #             try:\n",
    "#             with open(\"./\"+end_dir+\"/\"+f, 'r') as o:\n",
    "#                 config = yaml.load(o)\n",
    "            \n",
    "#             if \"Cooling_Consumption_Stage_2\" in config[\"Advise\"]:\n",
    "#                 config[\"Advise\"][\"DR_Lambda\"] = 0.5\n",
    "#                 config[\"Advise\"][\"MPC\"] = False\n",
    "            \n",
    "#             NOTE: run if key problem \n",
    "#             res = {}\n",
    "#             for key, val in config[\"Advise\"][\"Baseline\"].items():\n",
    "#                 try:\n",
    "#                     key_new = key.encode('utf-8')\n",
    "#                     print(key_new[-1])\n",
    "                    \n",
    "#                     res[int(key_new[-1])] = val\n",
    "#                     config[\"Advise\"][\"Baseline\"].pop(key, None)\n",
    "#                 except:\n",
    "#                     pass\n",
    "#             config[\"Advise\"][\"Baseline\"].update(res)\n",
    "#             print(config[\"Advise\"][\"Baseline\"])\n",
    "\n",
    "            \n",
    "                \n",
    "\n",
    "#             with open(\"./\"+end_dir+\"/\"+f, 'wb') as o:\n",
    "#                 yaml.dump(config, o)\n",
    "                    \n",
    "#             except:\n",
    "#                 print(\"ERROR WITH FILE\", f)\n",
    "                "
   ]
  },
  {
   "cell_type": "code",
   "execution_count": 47,
   "metadata": {},
   "outputs": [
    {
     "data": {
      "text/plain": [
       "True"
      ]
     },
     "execution_count": 47,
     "metadata": {},
     "output_type": "execute_result"
    }
   ],
   "source": [
    "isinstance(\"9\", str)"
   ]
  },
  {
   "cell_type": "code",
   "execution_count": 49,
   "metadata": {},
   "outputs": [
    {
     "data": {
      "text/plain": [
       "1"
      ]
     },
     "execution_count": 49,
     "metadata": {},
     "output_type": "execute_result"
    }
   ],
   "source": [
    "int(\"\\_ \\_ \\_ \\_ \\_ \\_ \\_ 1\"[-1])"
   ]
  },
  {
   "cell_type": "code",
   "execution_count": null,
   "metadata": {},
   "outputs": [],
   "source": []
  }
 ],
 "metadata": {
  "kernelspec": {
   "display_name": "ciee",
   "language": "python",
   "name": "ciee"
  },
  "language_info": {
   "codemirror_mode": {
    "name": "ipython",
    "version": 2
   },
   "file_extension": ".py",
   "mimetype": "text/x-python",
   "name": "python",
   "nbconvert_exporter": "python",
   "pygments_lexer": "ipython2",
   "version": "2.7.13"
  }
 },
 "nbformat": 4,
 "nbformat_minor": 2
}
