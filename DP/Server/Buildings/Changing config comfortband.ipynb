{
 "cells": [
  {
   "cell_type": "code",
   "execution_count": 20,
   "metadata": {},
   "outputs": [],
   "source": [
    "import os\n",
    "import yaml"
   ]
  },
  {
   "cell_type": "code",
   "execution_count": 36,
   "metadata": {},
   "outputs": [
    {
     "name": "stdout",
     "output_type": "stream",
     "text": [
      "('in dir: ', 'avenal-recreation-center/ZoneConfigs')\n",
      "HVAC_Zone_Large_Room\n",
      "HVAC_Zone_Tech_Center\n",
      "('in dir: ', 'avenal-public-works-yard/ZoneConfigs')\n",
      "HVAC_Zone_Public_Works\n",
      "('in dir: ', 'avenal-animal-shelter/ZoneConfigs')\n",
      "('ERROR WITH FILE', 'HVAC_Zone_Shelter_Corridor.yml')\n",
      "('in dir: ', 'avenal-movie-theatre/ZoneConfigs')\n",
      "('ERROR WITH FILE', 'HVAC_Zone_Theater_2.yml')\n",
      "('ERROR WITH FILE', 'HVAC_Zone_Theater_1.yml')\n",
      "('ERROR WITH FILE', 'HVAC_Zone_Pegasus_Hall.yml')\n",
      "('ERROR WITH FILE', 'HVAC_Zone_Lobby.yml')\n",
      "('ERROR WITH FILE', 'HVAC_Zone_Back_Hallway.yml')\n",
      "('ERROR WITH FILE', 'HVAC_Zone_Room_A.yml')\n",
      "('ERROR WITH FILE', 'HVAC_Zone_Room_D.yml')\n",
      "('ERROR WITH FILE', 'HVAC_Zone_Main_Hallway.yml')\n",
      "('in dir: ', 'avenal-veterans-hall/ZoneConfigs')\n",
      "('ERROR WITH FILE', 'HVAC_Zone_AC-4.yml')\n",
      "('ERROR WITH FILE', 'HVAC_Zone_AC-5.yml')\n",
      "('ERROR WITH FILE', 'HVAC_Zone_AC-6.yml')\n",
      "('ERROR WITH FILE', 'HVAC_Zone_AC-2.yml')\n",
      "('ERROR WITH FILE', 'HVAC_Zone_AC-3.yml')\n",
      "('ERROR WITH FILE', 'HVAC_Zone_AC-1.yml')\n"
     ]
    }
   ],
   "source": [
    "all_dir = os.walk(\"./\").next()\n",
    "for d in all_dir[1]:\n",
    "    if \"avenal\" in d:\n",
    "        end_dir = d + \"/ZoneConfigs\"\n",
    "        files = os.walk(end_dir).next()[2]\n",
    "        print(\"in dir: \", end_dir)\n",
    "        for f in files:\n",
    "            try:\n",
    "                with open(\"./\"+end_dir+\"/\"+f, 'r') as o:\n",
    "                    config = yaml.load(o)\n",
    "                    print(config[\"Zone\"])\n",
    "            except:\n",
    "                print(\"ERROR WITH FILE\", f)\n",
    "                "
   ]
  },
  {
   "cell_type": "code",
   "execution_count": null,
   "metadata": {},
   "outputs": [],
   "source": []
  }
 ],
 "metadata": {
  "kernelspec": {
   "display_name": "ciee",
   "language": "python",
   "name": "ciee"
  },
  "language_info": {
   "codemirror_mode": {
    "name": "ipython",
    "version": 2
   },
   "file_extension": ".py",
   "mimetype": "text/x-python",
   "name": "python",
   "nbconvert_exporter": "python",
   "pygments_lexer": "ipython2",
   "version": "2.7.13"
  }
 },
 "nbformat": 4,
 "nbformat_minor": 2
}
