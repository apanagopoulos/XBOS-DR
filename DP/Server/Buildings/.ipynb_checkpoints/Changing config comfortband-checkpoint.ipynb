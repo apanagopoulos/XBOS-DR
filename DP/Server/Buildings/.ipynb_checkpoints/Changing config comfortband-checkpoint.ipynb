{
 "cells": [
  {
   "cell_type": "code",
   "execution_count": 1,
   "metadata": {},
   "outputs": [],
   "source": [
    "import os\n",
    "import yaml"
   ]
  },
  {
   "cell_type": "code",
   "execution_count": 22,
   "metadata": {
    "scrolled": false
   },
   "outputs": [
    {
     "name": "stdout",
     "output_type": "stream",
     "text": [
      "========================\n",
      "('in dir: ', 'ciee/ZoneConfigs')\n",
      "0.7\n",
      "0.7\n",
      "0.7\n",
      "0.7\n",
      "0.7\n",
      "0.7\n",
      "0.7\n",
      "0.7\n",
      "========================\n",
      "('in dir: ', 'avenal-recreation-center/ZoneConfigs')\n",
      "0.7\n",
      "0.7\n",
      "0.7\n",
      "0.7\n",
      "========================\n",
      "('in dir: ', 'north-berkeley-senior-center/ZoneConfigs')\n",
      "0.7\n",
      "0.7\n",
      "0.7\n",
      "0.7\n",
      "0.7\n",
      "0.7\n",
      "========================\n",
      "('in dir: ', 'avenal-public-works-yard/ZoneConfigs')\n",
      "0.7\n",
      "0.7\n",
      "========================\n",
      "('in dir: ', 'orinda-community-center/ZoneConfigs')\n",
      "0.7\n",
      "0.7\n",
      "0.7\n",
      "0.7\n",
      "0.7\n",
      "0.7\n",
      "0.7\n",
      "0.7\n",
      "0.7\n",
      "0.7\n",
      "0.7\n",
      "0.7\n",
      "0.7\n",
      "0.7\n",
      "0.7\n",
      "0.7\n",
      "0.7\n",
      "0.7\n",
      "0.7\n",
      "0.7\n",
      "0.7\n",
      "0.7\n",
      "0.7\n",
      "0.7\n",
      "0.7\n",
      "0.7\n",
      "0.7\n",
      "0.7\n",
      "========================\n",
      "('in dir: ', 'avenal-animal-shelter/ZoneConfigs')\n",
      "0.7\n",
      "0.7\n",
      ".ipynb_checkpoints has not ZoneConfigs folder\n",
      "========================\n",
      "('in dir: ', '.ipynb_checkpoints/ZoneConfigs')\n"
     ]
    },
    {
     "ename": "IOError",
     "evalue": "[Errno 2] No such file or directory: './.ipynb_checkpoints/ZoneConfigs/HVAC_Zone_Shelter_Corridor.yml'",
     "output_type": "error",
     "traceback": [
      "\u001b[0;31m---------------------------------------------------------------------------\u001b[0m",
      "\u001b[0;31mIOError\u001b[0m                                   Traceback (most recent call last)",
      "\u001b[0;32m<ipython-input-22-671d7112203a>\u001b[0m in \u001b[0;36m<module>\u001b[0;34m()\u001b[0m\n\u001b[1;32m     11\u001b[0m     \u001b[0;32mfor\u001b[0m \u001b[0mf\u001b[0m \u001b[0;32min\u001b[0m \u001b[0mfiles\u001b[0m\u001b[0;34m:\u001b[0m\u001b[0;34m\u001b[0m\u001b[0m\n\u001b[1;32m     12\u001b[0m     \u001b[0;31m# Loads the configs\u001b[0m\u001b[0;34m\u001b[0m\u001b[0;34m\u001b[0m\u001b[0m\n\u001b[0;32m---> 13\u001b[0;31m         \u001b[0;32mwith\u001b[0m \u001b[0mopen\u001b[0m\u001b[0;34m(\u001b[0m\u001b[0;34m\"./\"\u001b[0m\u001b[0;34m+\u001b[0m\u001b[0mend_dir\u001b[0m\u001b[0;34m+\u001b[0m\u001b[0;34m\"/\"\u001b[0m\u001b[0;34m+\u001b[0m\u001b[0mf\u001b[0m\u001b[0;34m,\u001b[0m \u001b[0;34m'r'\u001b[0m\u001b[0;34m)\u001b[0m \u001b[0;32mas\u001b[0m \u001b[0mo\u001b[0m\u001b[0;34m:\u001b[0m\u001b[0;34m\u001b[0m\u001b[0m\n\u001b[0m\u001b[1;32m     14\u001b[0m             \u001b[0mconfig\u001b[0m \u001b[0;34m=\u001b[0m \u001b[0myaml\u001b[0m\u001b[0;34m.\u001b[0m\u001b[0mload\u001b[0m\u001b[0;34m(\u001b[0m\u001b[0mo\u001b[0m\u001b[0;34m)\u001b[0m\u001b[0;34m\u001b[0m\u001b[0m\n\u001b[1;32m     15\u001b[0m \u001b[0;34m\u001b[0m\u001b[0m\n",
      "\u001b[0;31mIOError\u001b[0m: [Errno 2] No such file or directory: './.ipynb_checkpoints/ZoneConfigs/HVAC_Zone_Shelter_Corridor.yml'"
     ]
    }
   ],
   "source": [
    "all_dir = os.walk(\"./\").next()\n",
    "for d in all_dir[1]:\n",
    "    try:\n",
    "        end_dir = d + \"/ZoneConfigs\"\n",
    "        files = os.walk(end_dir).next()[2]\n",
    "    except:\n",
    "        print(\"%s has not ZoneConfigs folder\" % d)\n",
    "        \n",
    "    print(\"========================\")\n",
    "    print(\"in dir: \", end_dir)\n",
    "    for f in files:\n",
    "    # Loads the configs\n",
    "        with open(\"./\"+end_dir+\"/\"+f, 'r') as o:\n",
    "            config = yaml.load(o)\n",
    "\n",
    "        # Change variables in config as needed\n",
    "        print(config[\"Advise\"][\"DR_Lambda\"] )\n",
    "        print(config[\"Advise\"][\"Lambda\"])\n",
    "#             config[\"Advise\"][\"DR_Lambda\"] = 0.7\n",
    "#             config[\"Advise\"][\"Lambda\"] = 0.7\n",
    "\n",
    "        # Writes the changes the the file\n",
    "        with open(\"./\"+end_dir+\"/\"+f, 'wb') as o:\n",
    "            yaml.dump(config, o)\n",
    "\n",
    "                "
   ]
  },
  {
   "cell_type": "code",
   "execution_count": null,
   "metadata": {},
   "outputs": [],
   "source": []
  }
 ],
 "metadata": {
  "kernelspec": {
   "display_name": "bets",
   "language": "python",
   "name": "bets"
  },
  "language_info": {
   "codemirror_mode": {
    "name": "ipython",
    "version": 2
   },
   "file_extension": ".py",
   "mimetype": "text/x-python",
   "name": "python",
   "nbconvert_exporter": "python",
   "pygments_lexer": "ipython2",
   "version": "2.7.10"
  }
 },
 "nbformat": 4,
 "nbformat_minor": 2
}
