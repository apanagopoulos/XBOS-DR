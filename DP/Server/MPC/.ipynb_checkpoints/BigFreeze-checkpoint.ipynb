{
 "cells": [
  {
   "cell_type": "code",
   "execution_count": 3,
   "metadata": {},
   "outputs": [],
   "source": [
    "import pandas as pd \n",
    "import numpy as np\n",
    "import pickle\n",
    "import datetime\n",
    "import matplotlib.pyplot as plt\n",
    "import time\n",
    "from collections import defaultdict\n",
    "\n",
    "from xbos import get_client\n",
    "from xbos.services import mdal\n",
    "from xbos.services.hod import HodClient\n",
    "from xbos.devices.thermostat import Thermostat"
   ]
  },
  {
   "cell_type": "code",
   "execution_count": 4,
   "metadata": {},
   "outputs": [],
   "source": [
    "thermostat_query = \"\"\"SELECT ?zone ?uri FROM ciee WHERE { \n",
    "          ?tstat rdf:type brick:Thermostat .\n",
    "          ?tstat bf:hasLocation/bf:isPartOf ?location_zone .\n",
    "          ?location_zone rdf:type brick:HVAC_Zone .\n",
    "          ?tstat bf:controls ?RTU .\n",
    "          ?RTU rdf:type brick:RTU . \n",
    "          ?RTU bf:feeds ?zone. \n",
    "          ?zone rdf:type brick:HVAC_Zone . \n",
    "          ?tstat bf:uri ?uri.\n",
    "        };\"\"\""
   ]
  },
  {
   "cell_type": "code",
   "execution_count": 5,
   "metadata": {},
   "outputs": [
    {
     "name": "stdout",
     "output_type": "stream",
     "text": [
      "Saw [xbos/hod] HodDB 7 seconds 820.74 ms ago\n"
     ]
    }
   ],
   "source": [
    "client = get_client()\n",
    "hod_client = HodClient(\"xbos/hod\", client)"
   ]
  },
  {
   "cell_type": "code",
   "execution_count": 6,
   "metadata": {},
   "outputs": [],
   "source": [
    "thermostat_query_data = hod_client.do_query(thermostat_query)[\"Rows\"]"
   ]
  },
  {
   "cell_type": "code",
   "execution_count": 7,
   "metadata": {},
   "outputs": [
    {
     "name": "stdout",
     "output_type": "stream",
     "text": [
      "Got Thermostat at ciee/devices/venstar/s.venstar/ConferenceRoom/i.xbos.thermostat last alive 2018-05-23T07:03:07.518236668Z\n",
      "Got Thermostat at ciee/devices/venstar/s.venstar/Clarity/i.xbos.thermostat last alive 2018-05-23T07:03:08.975387475Z\n",
      "Got Thermostat at ciee/devices/pelican/s.pelican/SouthEastCorner/i.xbos.thermostat last alive 2018-05-23T07:03:10.814214085Z\n",
      "Got Thermostat at ciee/devices/venstar/s.venstar/OpenSpace/i.xbos.thermostat last alive 2018-05-23T07:03:07.519297105Z\n"
     ]
    }
   ],
   "source": [
    "tstats = {tstat[\"?zone\"]: Thermostat(client, tstat[\"?uri\"]) for tstat in thermostat_query_data}"
   ]
  },
  {
   "cell_type": "code",
   "execution_count": 16,
   "metadata": {},
   "outputs": [
    {
     "data": {
      "text/plain": [
       "0"
      ]
     },
     "execution_count": 16,
     "metadata": {},
     "output_type": "execute_result"
    }
   ],
   "source": [
    "# time.sleep(60*1/60.)\n",
    "run_time = time.time()\n",
    "min([60. *  1/60., 0])"
   ]
  },
  {
   "cell_type": "code",
   "execution_count": null,
   "metadata": {},
   "outputs": [],
   "source": [
    "\n",
    "COOLING_ACTION = lambda tstat: {\"heating_setpoint\": 40, \"cooling_setpoint\": 45, \"override\": True, \"mode\": 3}\n",
    "HEATING_ACTION = lambda tstat: {\"heating_setpoint\": 90, \"cooling_setpoint\": 95, \"override\": True, \"mode\": 3}\n",
    "NO_ACTION = lambda tstat: {\"heating_setpoint\": tstat.temperature - 5, \"cooling_setpoint\": tstat.temperature + 5, \"override\": True, \"mode\": 3}\n",
    "\n",
    "def gatherZoneData(tstat):\n",
    "    data = {  \"heating_setpoint\": tstat.heating_setpoint,\n",
    "              \"cooling_setpoint\": tstat.cooling_setpoint,\n",
    "              \"state\": tstat.state,\n",
    "              \"temperature\": tstat.temperature}\n",
    "    return data\n",
    "\n",
    "def loopAction(tstats, action_messages, interval, dt):\n",
    "    \"\"\"\n",
    "    :param tstats: {zone: tstat object}\n",
    "    :param action_messages: {zone: action dictionary}\n",
    "    :param interval: how long to execute action in minutes\n",
    "    :param dt: how often to record data and rewrite message in minutes\n",
    "    returns: {zone: pd.df columns:[\"heating_setpoint\",\n",
    "              \"cooling_setpoint\",\n",
    "              \"state\",\n",
    "              \"temperature\", \"dt\"] index=time right after all actions were written to thermostats (freq=dt)}\"\"\"\n",
    "    start_time = time.time()\n",
    "    recorded_data = defaultdict(list)\n",
    "    \n",
    "    while time.time() - start_time < 60*interval:\n",
    "        # potential improvement is to make the times more accurate\n",
    "        run_time = time.time()\n",
    "        for zone, action in action_messages.items():\n",
    "            tstats[zone].write(action(tstats[zone]))\n",
    "        \n",
    "        # using dt as we assume it will be, (i.e. runtime less than dt). We can infer later if it differs. \n",
    "        time_data = {\"time\": datetime.datetime.utcnow(), \"dt\": dt}\n",
    "        for zone, tstat in tstats.items():\n",
    "            row = gatherZoneData(tstat)\n",
    "            row.update(time_data)\n",
    "            recorded_data[zone].append(row)\n",
    "        \n",
    "        # usually iteration of loop takes less than 0.1 seconds. \n",
    "        if dt*60 - (time.time() - run_time) < 0:\n",
    "            print(\"Warning: An iteration of the loop took too long. At utc_time: \", time_data[\"time\"])\n",
    "        time.sleep(max(dt*60 - (time.time() - run_time), 0))\n",
    "        \n",
    "    dataframe_data = {}\n",
    "    for zone, data in recorded_data.items():\n",
    "        data = pd.DataFrame(data).set_index('time')\n",
    "        dataframe_data[zone] = data\n",
    "    return dataframe_data\n",
    "        \n",
    "    \n",
    "def control(tstats, interval=30, dt=1):\n",
    "    zone_order = tstats.keys() # establishes order in which to perform actions.\n",
    "    \n",
    "    action_order = {\"0\":NO_ACTION, \"1\": HEATING_ACTION, \"2\": COOLING_ACTION} # in dictionary so we can shuffle easier if wanted. \n",
    "    \n",
    "    # control one zone. All others do nothing. \n",
    "    final_data = {}\n",
    "    for action_zone in zone_order:\n",
    "        zone_data = defaultdict(list)\n",
    "        for i in range(3):\n",
    "            # re setting since I want to store data all the time. Just to make sure we aren't loosing anything. \n",
    "            zone_data = defaultdict(list)\n",
    "            \n",
    "            action = action_order[str(i)]\n",
    "        \n",
    "            # set action for each zone\n",
    "            action_messages = {}\n",
    "            for zone in zone_order:\n",
    "                if zone == action_zone:\n",
    "                    action_messages[zone] = action\n",
    "                else:\n",
    "                    action_messages[zone] = action_order[str(0)] # no action\n",
    "            action_data = loopAction(tstats, action_messages, interval, dt)\n",
    "            for zone, df in action_data.items():\n",
    "                df[\"action\"] = np.ones(df.shape[0]) * i \n",
    "                zone_data[zone].append(df)\n",
    "            \n",
    "            print(\"Done with action: \", i)\n",
    "            with open(\"./Freezing_CIEE/\"+ str(i) + \";\"+  action_zone, \"wb\" + \";\" + datetime.datetime.utcnow().strftime('%Y-%m-%d %H:%M:%S')) as f:\n",
    "                pickle.dump({\"zone\": action_zone, \"action\": i, \"data\": zone_data}, f)\n",
    "        print(\"done with zone\", action_zone)\n",
    "#         for zone, arr in zone_data.items():\n",
    "#             final_data[zone] = pd.DataFrame(arr)\n",
    "#         print(final_data)\n",
    "\n",
    "\n",
    "                \n",
    "b = control(tstats, interval = 10./60, dt = 2/60.) "
   ]
  },
  {
   "cell_type": "code",
   "execution_count": null,
   "metadata": {},
   "outputs": [],
   "source": [
    "print(a[\"HVAC_Zone_Eastzone\"])"
   ]
  },
  {
   "cell_type": "code",
   "execution_count": 140,
   "metadata": {},
   "outputs": [
    {
     "name": "stdout",
     "output_type": "stream",
     "text": [
      "('heating_setpoint', 90.0)\n",
      "('cooling_setpoint', 95.0)\n",
      "('state', 3)\n",
      "('temperature', 75.0)\n",
      "('heating_setpoint', 90.0)\n",
      "('cooling_setpoint', 95.0)\n",
      "('state', 3)\n",
      "('temperature', 75.0)\n",
      "('heating_setpoint', 90.0)\n",
      "('cooling_setpoint', 95.0)\n",
      "('state', 3)\n",
      "('temperature', 75.0)\n",
      "('heating_setpoint', 90.0)\n",
      "('cooling_setpoint', 95.0)\n",
      "('state', 3)\n",
      "('temperature', 75.0)\n",
      "('heating_setpoint', 90.0)\n",
      "('cooling_setpoint', 95.0)\n",
      "('state', 3)\n",
      "('temperature', 75.0)\n",
      "('heating_setpoint', 90.0)\n",
      "('cooling_setpoint', 95.0)\n",
      "('state', 3)\n",
      "('temperature', 75.0)\n",
      "('heating_setpoint', 90.0)\n",
      "('cooling_setpoint', 95.0)\n",
      "('state', 3)\n",
      "('temperature', 75.0)\n",
      "('heating_setpoint', 90.0)\n",
      "('cooling_setpoint', 95.0)\n",
      "('state', 3)\n",
      "('temperature', 75.0)\n",
      "('heating_setpoint', 90.0)\n",
      "('cooling_setpoint', 95.0)\n",
      "('state', 3)\n",
      "('temperature', 75.0)\n",
      "('heating_setpoint', 90.0)\n",
      "('cooling_setpoint', 95.0)\n",
      "('state', 3)\n",
      "('temperature', 75.0)\n",
      "('heating_setpoint', 90.0)\n",
      "('cooling_setpoint', 95.0)\n",
      "('state', 3)\n",
      "('temperature', 75.0)\n",
      "('heating_setpoint', 90.0)\n",
      "('cooling_setpoint', 95.0)\n",
      "('state', 3)\n",
      "('temperature', 75.0)\n",
      "('heating_setpoint', 90.0)\n",
      "('cooling_setpoint', 95.0)\n",
      "('state', 3)\n",
      "('temperature', 75.0)\n",
      "('heating_setpoint', 90.0)\n",
      "('cooling_setpoint', 95.0)\n",
      "('state', 3)\n",
      "('temperature', 75.0)\n",
      "('heating_setpoint', 90.0)\n",
      "('cooling_setpoint', 95.0)\n",
      "('state', 3)\n",
      "('temperature', 75.0)\n",
      "('heating_setpoint', 90.0)\n",
      "('cooling_setpoint', 95.0)\n",
      "('state', 3)\n",
      "('temperature', 75.0)\n",
      "('heating_setpoint', 90.0)\n",
      "('cooling_setpoint', 95.0)\n",
      "('state', 3)\n",
      "('temperature', 75.0)\n",
      "('heating_setpoint', 90.0)\n",
      "('cooling_setpoint', 95.0)\n",
      "('state', 3)\n",
      "('temperature', 75.0)\n",
      "('heating_setpoint', 90.0)\n",
      "('cooling_setpoint', 95.0)\n",
      "('state', 3)\n",
      "('temperature', 75.0)\n",
      "('heating_setpoint', 90.0)\n",
      "('cooling_setpoint', 95.0)\n",
      "('state', 3)\n",
      "('temperature', 75.0)\n",
      "('heating_setpoint', 90.0)\n",
      "('cooling_setpoint', 95.0)\n",
      "('state', 3)\n",
      "('temperature', 75.0)\n",
      "('heating_setpoint', 90.0)\n",
      "('cooling_setpoint', 95.0)\n",
      "('state', 3)\n",
      "('temperature', 75.0)\n",
      "('heating_setpoint', 90.0)\n",
      "('cooling_setpoint', 95.0)\n",
      "('state', 3)\n",
      "('temperature', 75.0)\n",
      "('heating_setpoint', 90.0)\n",
      "('cooling_setpoint', 95.0)\n",
      "('state', 3)\n",
      "('temperature', 75.0)\n",
      "('heating_setpoint', 90.0)\n",
      "('cooling_setpoint', 95.0)\n",
      "('state', 3)\n",
      "('temperature', 75.0)\n",
      "('heating_setpoint', 90.0)\n",
      "('cooling_setpoint', 95.0)\n",
      "('state', 3)\n",
      "('temperature', 75.0)\n",
      "('heating_setpoint', 90.0)\n",
      "('cooling_setpoint', 95.0)\n",
      "('state', 3)\n",
      "('temperature', 75.0)\n",
      "('heating_setpoint', 90.0)\n",
      "('cooling_setpoint', 95.0)\n",
      "('state', 3)\n",
      "('temperature', 75.0)\n",
      "('heating_setpoint', 90.0)\n",
      "('cooling_setpoint', 95.0)\n",
      "('state', 3)\n",
      "('temperature', 75.0)\n",
      "('heating_setpoint', 90.0)\n",
      "('cooling_setpoint', 95.0)\n",
      "('state', 3)\n",
      "('temperature', 75.0)\n",
      "('heating_setpoint', 90.0)\n",
      "('cooling_setpoint', 95.0)\n",
      "('state', 3)\n",
      "('temperature', 75.0)\n",
      "('heating_setpoint', 90.0)\n",
      "('cooling_setpoint', 95.0)\n",
      "('state', 3)\n",
      "('temperature', 75.0)\n",
      "('heating_setpoint', 90.0)\n",
      "('cooling_setpoint', 95.0)\n",
      "('state', 3)\n",
      "('temperature', 75.0)\n",
      "('heating_setpoint', 90.0)\n",
      "('cooling_setpoint', 95.0)\n",
      "('state', 3)\n",
      "('temperature', 75.0)\n",
      "('heating_setpoint', 90.0)\n",
      "('cooling_setpoint', 95.0)\n",
      "('state', 3)\n",
      "('temperature', 75.0)\n",
      "('heating_setpoint', 90.0)\n",
      "('cooling_setpoint', 95.0)\n",
      "('state', 3)\n",
      "('temperature', 75.0)\n",
      "('heating_setpoint', 90.0)\n",
      "('cooling_setpoint', 95.0)\n",
      "('state', 3)\n",
      "('temperature', 75.0)\n"
     ]
    },
    {
     "ename": "KeyboardInterrupt",
     "evalue": "",
     "output_type": "error",
     "traceback": [
      "\u001b[0;31m---------------------------------------------------------------------------\u001b[0m",
      "\u001b[0;31mKeyboardInterrupt\u001b[0m                         Traceback (most recent call last)",
      "\u001b[0;32m<ipython-input-140-d70a4dbbe5c5>\u001b[0m in \u001b[0;36m<module>\u001b[0;34m()\u001b[0m\n\u001b[1;32m      4\u001b[0m     \u001b[0;32mprint\u001b[0m\u001b[0;34m(\u001b[0m\u001b[0;34m\"state\"\u001b[0m\u001b[0;34m,\u001b[0m\u001b[0mtstat\u001b[0m\u001b[0;34m.\u001b[0m\u001b[0mstate\u001b[0m\u001b[0;34m)\u001b[0m\u001b[0;34m\u001b[0m\u001b[0m\n\u001b[1;32m      5\u001b[0m     \u001b[0;32mprint\u001b[0m\u001b[0;34m(\u001b[0m\u001b[0;34m\"temperature\"\u001b[0m\u001b[0;34m,\u001b[0m\u001b[0mtstat\u001b[0m\u001b[0;34m.\u001b[0m\u001b[0mtemperature\u001b[0m\u001b[0;34m)\u001b[0m\u001b[0;34m\u001b[0m\u001b[0m\n\u001b[0;32m----> 6\u001b[0;31m     \u001b[0mtime\u001b[0m\u001b[0;34m.\u001b[0m\u001b[0msleep\u001b[0m\u001b[0;34m(\u001b[0m\u001b[0;36m1\u001b[0m\u001b[0;34m)\u001b[0m\u001b[0;34m\u001b[0m\u001b[0m\n\u001b[0m\u001b[1;32m      7\u001b[0m \u001b[0;34m\u001b[0m\u001b[0m\n",
      "\u001b[0;31mKeyboardInterrupt\u001b[0m: "
     ]
    }
   ],
   "source": [
    "while True:\n",
    "    print(\"heating_setpoint\", tstat.heating_setpoint)\n",
    "    print(\"cooling_setpoint\",tstat.cooling_setpoint)\n",
    "    print(\"state\",tstat.state)\n",
    "    print(\"temperature\",tstat.temperature)\n",
    "    time.sleep(1)\n",
    "\n"
   ]
  },
  {
   "cell_type": "code",
   "execution_count": 19,
   "metadata": {},
   "outputs": [
    {
     "data": {
      "text/plain": [
       "0"
      ]
     },
     "execution_count": 19,
     "metadata": {},
     "output_type": "execute_result"
    }
   ],
   "source": [
    "max(-1, 0)"
   ]
  },
  {
   "cell_type": "code",
   "execution_count": 28,
   "metadata": {},
   "outputs": [
    {
     "data": {
      "text/plain": [
       "25468"
      ]
     },
     "execution_count": 28,
     "metadata": {},
     "output_type": "execute_result"
    }
   ],
   "source": [
    "(datetime.datetime.utcnow() + datetime.timedelta(seconds = 1) - datetime.datetime(year=2018, month=5, day=23, hour=0, minute=30)).seconds"
   ]
  },
  {
   "cell_type": "code",
   "execution_count": 171,
   "metadata": {},
   "outputs": [
    {
     "name": "stdout",
     "output_type": "stream",
     "text": [
      "{'a': 3, 'c': 4}\n",
      "{'a': 3, 'b': 2}\n",
      "{'a': 3}\n"
     ]
    }
   ],
   "source": [
    "a = {\"b\": 2}\n",
    "b = {\"a\": 3}\n",
    "c = {\"c\": 4}\n",
    "a.update(b)\n",
    "c.update(b)\n",
    "print(c)\n",
    "print(a)\n",
    "print(b)"
   ]
  },
  {
   "cell_type": "code",
   "execution_count": null,
   "metadata": {},
   "outputs": [],
   "source": []
  }
 ],
 "metadata": {
  "kernelspec": {
   "display_name": "Python 2",
   "language": "python",
   "name": "python2"
  },
  "language_info": {
   "codemirror_mode": {
    "name": "ipython",
    "version": 2
   },
   "file_extension": ".py",
   "mimetype": "text/x-python",
   "name": "python",
   "nbconvert_exporter": "python",
   "pygments_lexer": "ipython2",
   "version": "2.7.13"
  }
 },
 "nbformat": 4,
 "nbformat_minor": 2
}
