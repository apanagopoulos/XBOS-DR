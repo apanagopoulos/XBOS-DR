{
 "cells": [
  {
   "cell_type": "code",
   "execution_count": 136,
   "metadata": {},
   "outputs": [],
   "source": [
    "from xbos import get_client\n",
    "from xbos.services.hod import HodClient\n",
    "from xbos.devices.thermostat import Thermostat\n",
    "\n",
    "import datetime\n",
    "import math\n",
    "import sys\n",
    "import threading\n",
    "import time\n",
    "import traceback\n",
    "\n",
    "import pytz\n",
    "import yaml\n"
   ]
  },
  {
   "cell_type": "code",
   "execution_count": 137,
   "metadata": {},
   "outputs": [],
   "source": [
    "    # Start of FIX for missing Brick query\n",
    "    thermostat_query = \"\"\"SELECT ?zone ?uri FROM  %s WHERE {\n",
    "              ?tstat rdf:type brick:Thermostat .\n",
    "              ?tstat bf:controls ?RTU .\n",
    "              ?RTU rdf:type brick:RTU .\n",
    "              ?RTU bf:feeds ?zone. \n",
    "              ?zone rdf:type brick:HVAC_Zone .\n",
    "              ?tstat bf:uri ?uri.\n",
    "              };\"\"\""
   ]
  },
  {
   "cell_type": "code",
   "execution_count": 138,
   "metadata": {},
   "outputs": [
    {
     "name": "stdout",
     "output_type": "stream",
     "text": [
      "Saw [xbos/hod] HodDB 8 seconds 315.821 ms ago\n"
     ]
    }
   ],
   "source": [
    "client = get_client()\n",
    "hc = HodClient(\"xbos/hod\", client)"
   ]
  },
  {
   "cell_type": "code",
   "execution_count": 139,
   "metadata": {},
   "outputs": [],
   "source": [
    "BUILDING = \"avenal-veterans-hall\"\n",
    "data = hc.do_query(thermostat_query % BUILDING)[\"Rows\"]"
   ]
  },
  {
   "cell_type": "code",
   "execution_count": 140,
   "metadata": {},
   "outputs": [
    {
     "name": "stdout",
     "output_type": "stream",
     "text": [
      "[{'?zone': 'HVAC_Zone_AC-6', '?uri': 'avenal-veterans-hall/devices/s.pelican/AC-6/i.xbos.thermostat'}, {'?zone': 'HVAC_Zone_AC-5', '?uri': 'avenal-veterans-hall/devices/s.pelican/AC-5/i.xbos.thermostat'}, {'?zone': 'HVAC_Zone_AC-4', '?uri': 'avenal-veterans-hall/devices/s.pelican/AC-4/i.xbos.thermostat'}, {'?zone': 'HVAC_Zone_AC-3', '?uri': 'avenal-veterans-hall/devices/s.pelican/AC-3/i.xbos.thermostat'}, {'?zone': 'HVAC_Zone_AC-2', '?uri': 'avenal-veterans-hall/devices/s.pelican/AC-2/i.xbos.thermostat'}, {'?zone': 'HVAC_Zone_AC-1', '?uri': 'avenal-veterans-hall/devices/s.pelican/AC-1/i.xbos.thermostat'}]\n"
     ]
    }
   ],
   "source": [
    "print(data)"
   ]
  },
  {
   "cell_type": "code",
   "execution_count": 141,
   "metadata": {},
   "outputs": [
    {
     "name": "stdout",
     "output_type": "stream",
     "text": [
      "Got Thermostat at avenal-veterans-hall/devices/s.pelican/AC-6/i.xbos.thermostat last alive 2018-05-29T18:59:43.147636514Z\n",
      "Got Thermostat at avenal-veterans-hall/devices/s.pelican/AC-5/i.xbos.thermostat last alive 2018-05-29T18:59:43.14379392Z\n",
      "Got Thermostat at avenal-veterans-hall/devices/s.pelican/AC-4/i.xbos.thermostat last alive 2018-05-29T18:59:43.140221938Z\n",
      "Got Thermostat at avenal-veterans-hall/devices/s.pelican/AC-3/i.xbos.thermostat last alive 2018-05-29T18:59:43.136547071Z\n",
      "Got Thermostat at avenal-veterans-hall/devices/s.pelican/AC-2/i.xbos.thermostat last alive 2018-05-29T18:59:43.132875511Z\n",
      "Got Thermostat at avenal-veterans-hall/devices/s.pelican/AC-1/i.xbos.thermostat last alive 2018-05-29T18:59:43.128491977Z\n"
     ]
    }
   ],
   "source": [
    "tstats = {d[\"?zone\"]: Thermostat(client, d[\"?uri\"]) for d in data}"
   ]
  },
  {
   "cell_type": "code",
   "execution_count": 143,
   "metadata": {},
   "outputs": [
    {
     "data": {
      "text/plain": [
       "'avenal-veterans-hall/devices/s.pelican/AC-4/i.xbos.thermostat'"
      ]
     },
     "execution_count": 143,
     "metadata": {},
     "output_type": "execute_result"
    }
   ],
   "source": [
    "f_tstat = tstats[\"HVAC_Zone_AC-4\"]\n",
    "f_tstat._uri"
   ]
  },
  {
   "cell_type": "code",
   "execution_count": 144,
   "metadata": {},
   "outputs": [
    {
     "name": "stdout",
     "output_type": "stream",
     "text": [
      "{'override': True, 'cooling_setpoint': 65, 'mode': 3, 'heating_setpoint': 50}\n"
     ]
    }
   ],
   "source": [
    "COOLING_ACTION = lambda tstat: {\"heating_setpoint\": 50, \"cooling_setpoint\": 65, \"override\": True,\n",
    "                                \"mode\": 3}\n",
    "HEATING_ACTION = lambda tstat: {\"heating_setpoint\": 80, \"cooling_setpoint\": 95, \"override\": True,\n",
    "                                \"mode\": 3}\n",
    "NO_ACTION = lambda tstat: {\"heating_setpoint\": tstat.temperature - 5,\n",
    "                                \"cooling_setpoint\": tstat.temperature + 5,\n",
    "                                        \"override\": True, \"mode\": 3}\n",
    "print(COOLING_ACTION(f_tstat))"
   ]
  },
  {
   "cell_type": "code",
   "execution_count": 149,
   "metadata": {},
   "outputs": [],
   "source": [
    "f_tstat.write(NO_ACTION(f_tstat))"
   ]
  },
  {
   "cell_type": "code",
   "execution_count": 150,
   "metadata": {},
   "outputs": [],
   "source": [
    "def printData(tstat):\n",
    "    print(\"heating setpoint\", tstat.heating_setpoint)\n",
    "    print(\"cooling setpoint\", tstat.cooling_setpoint)\n",
    "    print(\"temperature\", tstat.temperature)"
   ]
  },
  {
   "cell_type": "code",
   "execution_count": 154,
   "metadata": {},
   "outputs": [
    {
     "name": "stdout",
     "output_type": "stream",
     "text": [
      "HVAC_Zone_AC-6\n",
      "avenal-veterans-hall/devices/s.pelican/AC-6/i.xbos.thermostat\n",
      "('heating setpoint', 68.0)\n",
      "('cooling setpoint', 78.0)\n",
      "('temperature', 75.0)\n",
      "HVAC_Zone_AC-5\n",
      "avenal-veterans-hall/devices/s.pelican/AC-5/i.xbos.thermostat\n",
      "('heating setpoint', 69.0)\n",
      "('cooling setpoint', 74.0)\n",
      "('temperature', 73.9)\n",
      "HVAC_Zone_AC-4\n",
      "avenal-veterans-hall/devices/s.pelican/AC-4/i.xbos.thermostat\n",
      "('heating setpoint', 70.0)\n",
      "('cooling setpoint', 73.0)\n",
      "('temperature', 73.4)\n",
      "HVAC_Zone_AC-3\n",
      "avenal-veterans-hall/devices/s.pelican/AC-3/i.xbos.thermostat\n",
      "('heating setpoint', 70.0)\n",
      "('cooling setpoint', 73.0)\n",
      "('temperature', 73.3)\n",
      "HVAC_Zone_AC-2\n",
      "avenal-veterans-hall/devices/s.pelican/AC-2/i.xbos.thermostat\n",
      "('heating setpoint', 70.0)\n",
      "('cooling setpoint', 73.0)\n",
      "('temperature', 73.3)\n",
      "HVAC_Zone_AC-1\n",
      "avenal-veterans-hall/devices/s.pelican/AC-1/i.xbos.thermostat\n",
      "('heating setpoint', 70.0)\n",
      "('cooling setpoint', 73.0)\n",
      "('temperature', 73.0)\n"
     ]
    }
   ],
   "source": [
    "for zone, tstat in tstats.items():\n",
    "    print(zone)\n",
    "    print(tstat._uri)\n",
    "    printData(tstat)"
   ]
  },
  {
   "cell_type": "code",
   "execution_count": null,
   "metadata": {},
   "outputs": [],
   "source": []
  }
 ],
 "metadata": {
  "kernelspec": {
   "display_name": "ciee",
   "language": "python",
   "name": "ciee"
  },
  "language_info": {
   "codemirror_mode": {
    "name": "ipython",
    "version": 2
   },
   "file_extension": ".py",
   "mimetype": "text/x-python",
   "name": "python",
   "nbconvert_exporter": "python",
   "pygments_lexer": "ipython2",
   "version": "2.7.13"
  }
 },
 "nbformat": 4,
 "nbformat_minor": 2
}
