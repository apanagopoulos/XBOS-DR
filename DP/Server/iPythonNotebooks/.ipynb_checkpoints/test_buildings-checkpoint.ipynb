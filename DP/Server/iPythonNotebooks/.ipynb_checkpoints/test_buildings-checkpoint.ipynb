{
 "cells": [
  {
   "cell_type": "code",
   "execution_count": 1,
   "metadata": {},
   "outputs": [],
   "source": [
    "from xbos import get_client\n",
    "from xbos.services.hod import HodClient\n",
    "from xbos.devices.thermostat import Thermostat\n",
    "\n",
    "import datetime\n",
    "import math\n",
    "import sys\n",
    "import threading\n",
    "import time\n",
    "import traceback\n",
    "\n",
    "import pytz\n",
    "import yaml\n"
   ]
  },
  {
   "cell_type": "code",
   "execution_count": 2,
   "metadata": {},
   "outputs": [],
   "source": [
    "PATH = \"../Buildings/\""
   ]
  },
  {
   "cell_type": "code",
   "execution_count": 3,
   "metadata": {},
   "outputs": [],
   "source": [
    "building = 'csu-dominguez-hills'\n",
    "\n",
    "building_config_path = PATH + building + \"/\" + building + \".yml\""
   ]
  },
  {
   "cell_type": "code",
   "execution_count": null,
   "metadata": {},
   "outputs": [],
   "source": []
  }
 ],
 "metadata": {
  "kernelspec": {
   "display_name": "bets",
   "language": "python",
   "name": "bets"
  },
  "language_info": {
   "codemirror_mode": {
    "name": "ipython",
    "version": 2
   },
   "file_extension": ".py",
   "mimetype": "text/x-python",
   "name": "python",
   "nbconvert_exporter": "python",
   "pygments_lexer": "ipython2",
   "version": "2.7.10"
  }
 },
 "nbformat": 4,
 "nbformat_minor": 2
}
