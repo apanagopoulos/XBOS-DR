{
 "cells": [
  {
   "cell_type": "code",
   "execution_count": 1,
   "metadata": {},
   "outputs": [],
   "source": [
    "from xbos import get_client\n",
    "from xbos.services.hod import HodClient\n",
    "from xbos.devices.thermostat import Thermostat\n",
    "\n",
    "import datetime\n",
    "import math\n",
    "import sys\n",
    "import threading\n",
    "import time\n",
    "import traceback\n",
    "\n",
    "import pytz\n",
    "import yaml\n"
   ]
  },
  {
   "cell_type": "code",
   "execution_count": 5,
   "metadata": {},
   "outputs": [],
   "source": [
    "PATH = \"/Users/Daniel/Downloads/Configuration Files\""
   ]
  },
  {
   "cell_type": "code",
   "execution_count": 6,
   "metadata": {},
   "outputs": [],
   "source": [
    "building = 'csu-dominguez-hills'\n",
    "\n",
    "building_config_path = PATH + \"/\"  + building + \"/\" + building + \".yml\""
   ]
  },
  {
   "cell_type": "code",
   "execution_count": 10,
   "metadata": {},
   "outputs": [
    {
     "name": "stdout",
     "output_type": "stream",
     "text": [
      "{'Building': 'csu-dominguez-hills', 'TOU-Winter': [[['00:00', '08:00', 0.04187], ['08:00', '21:00', 0.0526], ['21:00', '00:00', 0.04187]], [['00:00', '00:00', 0.04187]]], 'CPP-High Start': '15:00', 'CPP-Moderate Finish': '15:00', 'NON-TOU-Winter': 'NaN', 'CPP-Moderate Price': 0.08123, 'Coordinates': '33.8633706,-118.2574696', 'CPP-High Price': 0.08123, 'Holiday': False, 'DR': False, 'CPP-Moderate Start': '12:00', 'CPP-High Finish': '18:00', 'NON-TOU-Summer': 'NaN', 'TOU-Summer': [[['00:00', '08:00', 0.03635], ['08:00', '12:00', 0.05433], ['12:00', '18:00', 0.08123], ['18:00', '23:00', 0.05433], ['23:00', '00:00', 0.03635]], [['00:00', '00:00', 0.03635]]], 'Pricing': None, 'Pytz_Timezone': 'America/Los_Angeles', 'Energy_Rates': 'TOU-Summer'}\n"
     ]
    }
   ],
   "source": [
    "with open(building_config_path, \"r\") as f:\n",
    "    bldg_cfg = yaml.load(f)\n",
    "print(bldg_cfg)"
   ]
  },
  {
   "cell_type": "code",
   "execution_count": null,
   "metadata": {},
   "outputs": [],
   "source": []
  }
 ],
 "metadata": {
  "kernelspec": {
   "display_name": "bets",
   "language": "python",
   "name": "bets"
  },
  "language_info": {
   "codemirror_mode": {
    "name": "ipython",
    "version": 2
   },
   "file_extension": ".py",
   "mimetype": "text/x-python",
   "name": "python",
   "nbconvert_exporter": "python",
   "pygments_lexer": "ipython2",
   "version": "2.7.10"
  }
 },
 "nbformat": 4,
 "nbformat_minor": 2
}
