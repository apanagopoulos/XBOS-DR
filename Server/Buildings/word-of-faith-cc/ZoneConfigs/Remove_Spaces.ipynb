{
 "cells": [
  {
   "cell_type": "code",
   "execution_count": 1,
   "metadata": {},
   "outputs": [
    {
     "name": "stdout",
     "output_type": "stream",
     "text": [
      "Replacing tabs in HVAC_config_hdr.yml\n",
      "HVAC_config_hdr.yml WORKS\n",
      "Replacing tabs in HVAC_Zone_AC-1.yml\n",
      "HVAC_Zone_AC-1.yml WORKS\n",
      "Replacing tabs in HVAC_Zone_AC-3.yml\n",
      "HVAC_Zone_AC-3.yml WORKS\n",
      "Replacing tabs in HVAC_Zone_AC-5.yml\n",
      "HVAC_Zone_AC-5.yml WORKS\n"
     ]
    }
   ],
   "source": [
    "import yaml\n",
    "import glob, os\n",
    "import traceback\n",
    "import re\n",
    "\n",
    "# READ ALL FILES THAT HAVE CSV EXTENSION AND CONVERT THEM TO YML EXTENSION\n",
    "# COMMENT OUT IF NOT NEEDED\n",
    "for file in glob.glob(\"*.csv\"):\n",
    "    thisFile = file\n",
    "    base = os.path.splitext(thisFile)[0]\n",
    "    os.rename(thisFile, base + \".yml\")\n",
    "\n",
    "# READ ALL YML FILES AND SEE IF THEY ARE PARSABLE\n",
    "for file in glob.glob(\"*.yml\"):\n",
    "\n",
    "\n",
    "    #THIS PARTS CONVERTS ALL THE TABS TO SPACES INSIDE THE FILES\n",
    "    #UNCOMMENT IF NEEDED\n",
    "    file_contents = ''\n",
    "    with open(file) as f:\n",
    "        file_contents = f.read()\n",
    "\n",
    "    file_contents = re.sub('\\t', \" \", file_contents)\n",
    "\n",
    "    print('Replacing tabs in {0}'.format(file))\n",
    "    with open(file, \"w\") as f:\n",
    "        f.write(file_contents)\n",
    "\n",
    "    try:\n",
    "        with open(file, 'r') as ymlfile:\n",
    "            cfg = yaml.load(ymlfile)\n",
    "        print file + \" WORKS\"\n",
    "    except Exception as exception:\n",
    "        print file + \" DOES NOT WORK\"\n",
    "        print(traceback.format_exc())  # THIS PRINTS THE STACKTRACE OF THE YAML PARSE ERROR, COMMENT IF NOT NEEDED\n",
    "\n",
    "#for file in glob.glob(\"*.yml\"):\n",
    "#\tthisFile = file\n",
    "#\tbase = os.path.splitext(thisFile)[0]\n",
    "#\tos.rename(thisFile, base + \".csv\")\n",
    "\n"
   ]
  },
  {
   "cell_type": "code",
   "execution_count": null,
   "metadata": {},
   "outputs": [],
   "source": []
  },
  {
   "cell_type": "code",
   "execution_count": null,
   "metadata": {},
   "outputs": [],
   "source": []
  }
 ],
 "metadata": {
  "kernelspec": {
   "display_name": "Python 2",
   "language": "python",
   "name": "python2"
  },
  "language_info": {
   "codemirror_mode": {
    "name": "ipython",
    "version": 2
   },
   "file_extension": ".py",
   "mimetype": "text/x-python",
   "name": "python",
   "nbconvert_exporter": "python",
   "pygments_lexer": "ipython2",
   "version": "2.7.14"
  }
 },
 "nbformat": 4,
 "nbformat_minor": 2
}
